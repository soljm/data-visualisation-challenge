{
 "cells": [
  {
   "attachments": {},
   "cell_type": "markdown",
   "metadata": {},
   "source": [
    "# Pymaceuticals Inc.\n",
    "---\n",
    "\n",
    "### Analysis\n",
    "\n",
    "- Overall, Capomulin is more effective in reducing tumour volume than most of the other drug regimens.\n",
    "  - The only drug that gives the same effectiveness is Ramicane.\n",
    "  - The variance and spread of the data for Capomulin is also lower than the other drugs, making the accuracy of the drug higher than the rest.\n",
    "- There is a strong positive correlation between the average tumour volume and weight, with the correlation coefficient being 0.84."
   ]
  },
  {
   "cell_type": "markdown",
   "metadata": {},
   "source": [
    "## Prepare the Data"
   ]
  },
  {
   "cell_type": "code",
   "execution_count": null,
   "metadata": {},
   "outputs": [],
   "source": [
    "# Dependencies and Setup\n",
    "import matplotlib.pyplot as plt\n",
    "import pandas as pd\n",
    "import scipy.stats as st\n",
    "\n",
    "# Study data files\n",
    "mouse_metadata_path = \"data/Mouse_metadata.csv\"\n",
    "study_results_path = \"data/Study_results.csv\"\n",
    "\n",
    "# Read the mouse data and the study results\n",
    "mouse_metadata = pd.read_csv(mouse_metadata_path)\n",
    "study_results = pd.read_csv(study_results_path)\n",
    "\n",
    "# Combine the data into a single DataFrame\n",
    "complete_df = pd.merge(mouse_metadata, study_results, on='Mouse ID', how='left')\n",
    "\n",
    "# Display the data table for preview\n",
    "complete_df.head()"
   ]
  },
  {
   "cell_type": "code",
   "execution_count": null,
   "metadata": {},
   "outputs": [],
   "source": [
    "# Checking the number of mice.\n",
    "mice_count = complete_df['Mouse ID'].nunique()\n",
    "mice_count"
   ]
  },
  {
   "cell_type": "code",
   "execution_count": null,
   "metadata": {},
   "outputs": [],
   "source": [
    "# Our data should be uniquely identified by Mouse ID and Timepoint\n",
    "# Get the duplicate mice by ID number that shows up for Mouse ID and Timepoint. \n",
    "duplicates = complete_df.duplicated(subset=['Mouse ID','Timepoint'], keep=False)\n",
    "duplicates = complete_df[duplicates]\n",
    "duplicates = duplicates['Mouse ID'].unique()\n",
    "duplicates"
   ]
  },
  {
   "cell_type": "code",
   "execution_count": null,
   "metadata": {},
   "outputs": [],
   "source": [
    "# Optional: Get all the data for the duplicate mouse ID. \n",
    "same_mice = complete_df.loc[complete_df['Mouse ID']==duplicates[0],:]\n",
    "same_mice"
   ]
  },
  {
   "cell_type": "code",
   "execution_count": null,
   "metadata": {},
   "outputs": [],
   "source": [
    "# Create a clean DataFrame by dropping the duplicate mouse by its ID.\n",
    "clean_df = complete_df.loc[complete_df['Mouse ID']!=duplicates[0],:]\n",
    "clean_df"
   ]
  },
  {
   "cell_type": "code",
   "execution_count": null,
   "metadata": {},
   "outputs": [],
   "source": [
    "# Checking the number of mice in the clean DataFrame.\n",
    "mice_count2 = clean_df['Mouse ID'].nunique()\n",
    "mice_count2"
   ]
  },
  {
   "cell_type": "markdown",
   "metadata": {},
   "source": [
    "## Summary Statistics"
   ]
  },
  {
   "cell_type": "code",
   "execution_count": null,
   "metadata": {},
   "outputs": [],
   "source": [
    "# Generate a summary statistics table of mean, median, variance, standard deviation, and SEM of the tumor volume for each regimen\n",
    "\n",
    "# Use groupby and summary statistical methods to calculate the following properties of each drug regimen: \n",
    "# mean, median, variance, standard deviation, and SEM of the tumor volume. \n",
    "drug_group = clean_df.groupby('Drug Regimen')['Tumor Volume (mm3)']\n",
    "tumour_mean = drug_group.mean()\n",
    "tumour_median = drug_group.median()\n",
    "tumour_variance = drug_group.var()\n",
    "tumour_std = drug_group.std()\n",
    "tumour_sem = drug_group.sem()\n",
    "\n",
    "# Assemble the resulting series into a single summary DataFrame.\n",
    "tumour_summary = pd.DataFrame({'Mean Tumour Volume': tumour_mean,\n",
    "                               'Median Tumour Volume': tumour_median,\n",
    "                               'Tumour Volume Variance': tumour_variance,\n",
    "                               'Tumour Volume Std. Dev.': tumour_std,\n",
    "                               'Tumour Volume Std. Err.': tumour_sem})\n",
    "tumour_summary"
   ]
  },
  {
   "cell_type": "code",
   "execution_count": null,
   "metadata": {},
   "outputs": [],
   "source": [
    "# A more advanced method to generate a summary statistics table of mean, median, variance, standard deviation,\n",
    "# and SEM of the tumor volume for each regimen (only one method is required in the solution)\n",
    "\n",
    "# Using the aggregation method, produce the same summary statistics in a single line\n",
    "tumour_stats = clean_df.groupby('Drug Regimen').agg({'Tumor Volume (mm3)':['mean', 'median', 'var', 'std', 'sem']})\n",
    "tumour_stats"
   ]
  },
  {
   "cell_type": "markdown",
   "metadata": {},
   "source": [
    "## Bar and Pie Charts"
   ]
  },
  {
   "cell_type": "code",
   "execution_count": null,
   "metadata": {},
   "outputs": [],
   "source": [
    "# Generate a bar plot showing the total number of rows (Mouse ID/Timepoints) for each drug regimen using Pandas.\n",
    "total_rows = clean_df.groupby('Drug Regimen')['Timepoint'].count().sort_values(ascending=False)\n",
    "drug_bar = total_rows.plot(kind='bar', title='Number of Observed Timepoints per Drug Regimen', \n",
    "                           xlabel='Drug Regimen', ylabel='# of Observed Mouse Timepoints')\n",
    "plt.show()"
   ]
  },
  {
   "cell_type": "code",
   "execution_count": null,
   "metadata": {},
   "outputs": [],
   "source": [
    "# Generate a bar plot showing the total number of rows (Mouse ID/Timepoints) for each drug regimen using pyplot.\n",
    "\n",
    "plt.bar(total_rows.index, total_rows)\n",
    "plt.xticks(rotation=90)\n",
    "plt.title(\"Number of Observed Timepoints per Drug Regimen\")\n",
    "plt.xlabel(\"Drug Regimen\")\n",
    "plt.ylabel(\"# of Observed Mouse Timepoints\")\n",
    "\n",
    "plt.show()"
   ]
  },
  {
   "cell_type": "code",
   "execution_count": null,
   "metadata": {},
   "outputs": [],
   "source": [
    "# Generate a pie plot showing the distribution of female versus male mice using Pandas\n",
    "genders = clean_df.groupby('Sex')['Mouse ID'].count()\n",
    "genders.plot(kind='pie', title='Gender Split',ylabel='Sex', autopct='%.1f%%', startangle=180)\n",
    "plt.show()"
   ]
  },
  {
   "cell_type": "code",
   "execution_count": null,
   "metadata": {},
   "outputs": [],
   "source": [
    "# Generate a pie plot showing the distribution of female versus male mice using pyplot\n",
    "plt.pie(genders, autopct='%.1f%%', labels=['Female', 'Male'], startangle=180)\n",
    "plt.title('Gender Split')\n",
    "plt.ylabel('Sex')"
   ]
  },
  {
   "cell_type": "markdown",
   "metadata": {},
   "source": [
    "## Quartiles, Outliers and Boxplots"
   ]
  },
  {
   "cell_type": "code",
   "execution_count": null,
   "metadata": {},
   "outputs": [],
   "source": [
    "# Calculate the final tumor volume of each mouse across four of the treatment regimens:  \n",
    "# Capomulin, Ramicane, Infubinol, and Ceftamin\n",
    "\n",
    "# Start by getting the last (greatest) timepoint for each mouse\n",
    "max_group = pd.DataFrame(clean_df.groupby('Mouse ID')['Timepoint'].max())\n",
    "\n",
    "# Merge this group df with the original DataFrame to get the tumor volume at the last timepoint\n",
    "merged_max = pd.merge(max_group, clean_df, on=['Mouse ID','Timepoint'])\n",
    "merged_max\n"
   ]
  },
  {
   "cell_type": "code",
   "execution_count": null,
   "metadata": {},
   "outputs": [],
   "source": [
    "# Filter to only included the necessary drug regimens\n",
    "treatments = ['Capomulin', 'Ramicane', 'Infubinol', 'Ceftamin']\n",
    "merged_max_filter = merged_max[merged_max['Drug Regimen'].isin(treatments)]\n",
    "merged_max_filter"
   ]
  },
  {
   "cell_type": "code",
   "execution_count": null,
   "metadata": {},
   "outputs": [],
   "source": [
    "# Generate a box plot that shows the distrubution of the tumor volume for each treatment group.\n",
    "boxplot = merged_max_filter.boxplot(column=['Tumor Volume (mm3)'], by='Drug Regimen', grid=False)\n",
    "plt.suptitle('Final Tumor Volume of the Most Promising Drug Regimens')\n",
    "plt.title(None)\n",
    "plt.ylabel('Final Tumor Volume (mm3)')\n",
    "plt.show()"
   ]
  },
  {
   "cell_type": "markdown",
   "metadata": {},
   "source": [
    "## Line and Scatter Plots"
   ]
  },
  {
   "cell_type": "code",
   "execution_count": null,
   "metadata": {},
   "outputs": [],
   "source": [
    "# Generate a line plot of tumor volume vs. time point for a single mouse treated with Capomulin\n",
    "capomulin = clean_df[clean_df['Drug Regimen']=='Capomulin']\n",
    "capomulin_mouse = capomulin['Mouse ID'].iloc[0]\n",
    "capomulin_filter = capomulin[capomulin['Mouse ID']==capomulin_mouse]\n",
    "line = capomulin_filter.plot.line('Timepoint', 'Tumor Volume (mm3)')\n",
    "plt.title('Capomulin Treatment of Mouse S185')\n",
    "plt.xlabel('Timepoint (days)')\n",
    "plt.ylabel('Tumor Volume (mm3)')\n",
    "line.get_legend().remove()\n",
    "plt.show()"
   ]
  },
  {
   "cell_type": "code",
   "execution_count": null,
   "metadata": {},
   "outputs": [],
   "source": [
    "# Generate a scatter plot of mouse weight vs. the average observed tumor volume for the entire Capomulin regimen\n",
    "capomulin_id = capomulin.groupby('Mouse ID')\n",
    "average = capomulin_id[['Tumor Volume (mm3)', 'Weight (g)']].mean()\n",
    "scatter = average.plot.scatter('Weight (g)', 'Tumor Volume (mm3)')\n",
    "plt.title('Average Tumor Volume Against Weight')\n",
    "plt.ylabel('Average Tumor Volume (mm3)')"
   ]
  },
  {
   "cell_type": "markdown",
   "metadata": {},
   "source": [
    "## Correlation and Regression"
   ]
  },
  {
   "cell_type": "code",
   "execution_count": null,
   "metadata": {},
   "outputs": [],
   "source": [
    "# Calculate the correlation coefficient and a linear regression model \n",
    "# for mouse weight and average observed tumor volume for the entire Capomulin regimen\n",
    "res = st.linregress(average['Weight (g)'], average['Tumor Volume (mm3)'])\n",
    "\n",
    "# Plot the linear regression on the scatter plot\n",
    "scatter = average.plot.scatter('Weight (g)', 'Tumor Volume (mm3)')\n",
    "plt.plot(average['Weight (g)'], res.intercept + res.slope*average['Weight (g)'], 'r')\n",
    "plt.title('Average Tumor Volume Against Weight')\n",
    "plt.ylabel('Average Tumor Volume (mm3)')\n",
    "print(f\"The correlation between mouse weight and the average tumor volume is {round(res.rvalue,2)}.\")"
   ]
  }
 ],
 "metadata": {
  "anaconda-cloud": {},
  "kernelspec": {
   "display_name": "Python 3 (ipykernel)",
   "language": "python",
   "name": "python3"
  },
  "language_info": {
   "codemirror_mode": {
    "name": "ipython",
    "version": 3
   },
   "file_extension": ".py",
   "mimetype": "text/x-python",
   "name": "python",
   "nbconvert_exporter": "python",
   "pygments_lexer": "ipython3",
   "version": "3.11.5"
  }
 },
 "nbformat": 4,
 "nbformat_minor": 4
}
